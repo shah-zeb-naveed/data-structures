{
 "cells": [
  {
   "cell_type": "code",
   "execution_count": 12,
   "metadata": {},
   "outputs": [
    {
     "name": "stdout",
     "output_type": "stream",
     "text": [
      "100\n"
     ]
    },
    {
     "data": {
      "text/plain": [
       "[0, 5, 10, 15, 20, 475, 480, 485, 490, 495]"
      ]
     },
     "execution_count": 12,
     "metadata": {},
     "output_type": "execute_result"
    }
   ],
   "source": [
    "# load factor = number of elements / number of buckets\n",
    "\n",
    "n = 100\n",
    "numbers = list(range(0, n * 5, 5))\n",
    "\n",
    "print(len(numbers))\n",
    "numbers[:5] + numbers[-5:]"
   ]
  },
  {
   "cell_type": "code",
   "execution_count": 13,
   "metadata": {},
   "outputs": [
    {
     "name": "stdout",
     "output_type": "stream",
     "text": [
      "20\n"
     ]
    },
    {
     "data": {
      "text/plain": [
       "{0: 5,\n",
       " 5: 5,\n",
       " 10: 5,\n",
       " 15: 5,\n",
       " 20: 5,\n",
       " 25: 5,\n",
       " 30: 5,\n",
       " 35: 5,\n",
       " 40: 5,\n",
       " 45: 5,\n",
       " 50: 5,\n",
       " 55: 5,\n",
       " 60: 5,\n",
       " 65: 5,\n",
       " 70: 5,\n",
       " 75: 5,\n",
       " 80: 5,\n",
       " 85: 5,\n",
       " 90: 5,\n",
       " 95: 5}"
      ]
     },
     "execution_count": 13,
     "metadata": {},
     "output_type": "execute_result"
    }
   ],
   "source": [
    "def hash(x):\n",
    "    return x % 100\n",
    "\n",
    "hash_keys = {}\n",
    "\n",
    "for number in numbers:\n",
    "    hash_keys[hash(number)] = hash_keys.get(hash(number), 0) + 1 \n",
    "\n",
    "print(len(hash_keys))\n",
    "hash_keys"
   ]
  },
  {
   "cell_type": "code",
   "execution_count": 14,
   "metadata": {},
   "outputs": [
    {
     "name": "stdout",
     "output_type": "stream",
     "text": [
      "100\n"
     ]
    },
    {
     "data": {
      "text/plain": [
       "{0: 1,\n",
       " 5: 1,\n",
       " 10: 1,\n",
       " 15: 1,\n",
       " 20: 1,\n",
       " 25: 1,\n",
       " 30: 1,\n",
       " 35: 1,\n",
       " 40: 1,\n",
       " 45: 1,\n",
       " 50: 1,\n",
       " 55: 1,\n",
       " 60: 1,\n",
       " 65: 1,\n",
       " 70: 1,\n",
       " 75: 1,\n",
       " 80: 1,\n",
       " 85: 1,\n",
       " 90: 1,\n",
       " 95: 1,\n",
       " 100: 1,\n",
       " 105: 1,\n",
       " 3: 1,\n",
       " 8: 1,\n",
       " 13: 1,\n",
       " 18: 1,\n",
       " 23: 1,\n",
       " 28: 1,\n",
       " 33: 1,\n",
       " 38: 1,\n",
       " 43: 1,\n",
       " 48: 1,\n",
       " 53: 1,\n",
       " 58: 1,\n",
       " 63: 1,\n",
       " 68: 1,\n",
       " 73: 1,\n",
       " 78: 1,\n",
       " 83: 1,\n",
       " 88: 1,\n",
       " 93: 1,\n",
       " 98: 1,\n",
       " 103: 1,\n",
       " 1: 1,\n",
       " 6: 1,\n",
       " 11: 1,\n",
       " 16: 1,\n",
       " 21: 1,\n",
       " 26: 1,\n",
       " 31: 1,\n",
       " 36: 1,\n",
       " 41: 1,\n",
       " 46: 1,\n",
       " 51: 1,\n",
       " 56: 1,\n",
       " 61: 1,\n",
       " 66: 1,\n",
       " 71: 1,\n",
       " 76: 1,\n",
       " 81: 1,\n",
       " 86: 1,\n",
       " 91: 1,\n",
       " 96: 1,\n",
       " 101: 1,\n",
       " 106: 1,\n",
       " 4: 1,\n",
       " 9: 1,\n",
       " 14: 1,\n",
       " 19: 1,\n",
       " 24: 1,\n",
       " 29: 1,\n",
       " 34: 1,\n",
       " 39: 1,\n",
       " 44: 1,\n",
       " 49: 1,\n",
       " 54: 1,\n",
       " 59: 1,\n",
       " 64: 1,\n",
       " 69: 1,\n",
       " 74: 1,\n",
       " 79: 1,\n",
       " 84: 1,\n",
       " 89: 1,\n",
       " 94: 1,\n",
       " 99: 1,\n",
       " 104: 1,\n",
       " 2: 1,\n",
       " 7: 1,\n",
       " 12: 1,\n",
       " 17: 1,\n",
       " 22: 1,\n",
       " 27: 1,\n",
       " 32: 1,\n",
       " 37: 1,\n",
       " 42: 1,\n",
       " 47: 1,\n",
       " 52: 1,\n",
       " 57: 1,\n",
       " 62: 1,\n",
       " 67: 1}"
      ]
     },
     "execution_count": 14,
     "metadata": {},
     "output_type": "execute_result"
    }
   ],
   "source": [
    "def hash(x):\n",
    "    return x % 107\n",
    "\n",
    "hash_keys = {}\n",
    "\n",
    "for number in numbers:\n",
    "    hash_keys[hash(number)] = hash_keys.get(hash(number), 0) + 1 \n",
    "\n",
    "print(len(hash_keys))\n",
    "hash_keys"
   ]
  },
  {
   "cell_type": "code",
   "execution_count": 15,
   "metadata": {},
   "outputs": [
    {
     "name": "stdout",
     "output_type": "stream",
     "text": [
      "25\n"
     ]
    },
    {
     "data": {
      "text/plain": [
       "{0: 4,\n",
       " 5: 4,\n",
       " 10: 4,\n",
       " 15: 4,\n",
       " 20: 4,\n",
       " 25: 4,\n",
       " 30: 4,\n",
       " 35: 4,\n",
       " 40: 4,\n",
       " 45: 4,\n",
       " 50: 4,\n",
       " 55: 4,\n",
       " 60: 4,\n",
       " 65: 4,\n",
       " 70: 4,\n",
       " 75: 4,\n",
       " 80: 4,\n",
       " 85: 4,\n",
       " 90: 4,\n",
       " 95: 4,\n",
       " 100: 4,\n",
       " 105: 4,\n",
       " 110: 4,\n",
       " 115: 4,\n",
       " 120: 4}"
      ]
     },
     "execution_count": 15,
     "metadata": {},
     "output_type": "execute_result"
    }
   ],
   "source": [
    "def hash(x):\n",
    "    return x % 125\n",
    "    # a multiple of 5 and we know our elements are multiples of 5 so collisions are expected. 107 is a better option.\n",
    "\n",
    "hash_keys = {}\n",
    "\n",
    "for number in numbers:\n",
    "    hash_keys[hash(number)] = hash_keys.get(hash(number), 0) + 1 \n",
    "\n",
    "print(len(hash_keys))\n",
    "hash_keys"
   ]
  },
  {
   "cell_type": "code",
   "execution_count": 2,
   "metadata": {},
   "outputs": [
    {
     "name": "stdout",
     "output_type": "stream",
     "text": [
      "8568\n",
      "-1\n",
      "8568\n",
      "8568\n"
     ]
    }
   ],
   "source": [
    "\"\"\"Write a HashTable class that stores strings\n",
    "in a hash table, where keys are calculated\n",
    "using the first two letters of the string.\"\"\"\n",
    "\n",
    "#  Hash Value = (ASCII Value of First Letter * 100) + ASCII Value of Second Letter \n",
    "\n",
    "class HashTable(object):\n",
    "    def __init__(self):\n",
    "        self.table = [None]*10000\n",
    "\n",
    "    def store(self, string):\n",
    "        \"\"\"Input a string that's stored in \n",
    "        the table.\"\"\"\n",
    "        hash_idx = self.calculate_hash_value(string)\n",
    "        if self.table[hash_idx]:\n",
    "            self.table[hash_idx].append(string) # collision handling\n",
    "        else:\n",
    "            self.table[hash_idx] = [string] \n",
    "\n",
    "    def lookup(self, string):\n",
    "        \"\"\"Return the hash value if the\n",
    "        string is already in the table.\n",
    "        Return -1 otherwise.\"\"\"\n",
    "        hash_idx = self.calculate_hash_value(string)\n",
    "        \n",
    "        if self.table[hash_idx]:\n",
    "            # doing linear lookup. worst case O(n)\n",
    "            for el in self.table[hash_idx]:\n",
    "                if el == string:\n",
    "                    return hash_idx\n",
    "        \n",
    "        return -1\n",
    "\n",
    "    def calculate_hash_value(self, string):\n",
    "        \"\"\"Helper function to calulate a\n",
    "        hash value from a string.\"\"\"\n",
    "        return ord(string[0]) * 100 + ord(string[1])\n",
    "    \n",
    "# Setup\n",
    "hash_table = HashTable()\n",
    "\n",
    "# Test calculate_hash_value\n",
    "# Should be 8568\n",
    "print(hash_table.calculate_hash_value('UDACITY'))\n",
    "\n",
    "# Test lookup edge case\n",
    "# Should be -1\n",
    "print(hash_table.lookup('UDACITY'))\n",
    "\n",
    "# Test store\n",
    "hash_table.store('UDACITY')\n",
    "# Should be 8568\n",
    "print(hash_table.lookup('UDACITY'))\n",
    "\n",
    "# Test store edge case\n",
    "hash_table.store('UDACIOUS')\n",
    "# Should be 8568\n",
    "print(hash_table.lookup('UDACIOUS'))\n"
   ]
  },
  {
   "cell_type": "code",
   "execution_count": null,
   "metadata": {},
   "outputs": [],
   "source": []
  }
 ],
 "metadata": {
  "interpreter": {
   "hash": "b3ba2566441a7c06988d0923437866b63cedc61552a5af99d1f4fb67d367b25f"
  },
  "kernelspec": {
   "display_name": "Python 3.7.6 ('base')",
   "language": "python",
   "name": "python3"
  },
  "language_info": {
   "codemirror_mode": {
    "name": "ipython",
    "version": 3
   },
   "file_extension": ".py",
   "mimetype": "text/x-python",
   "name": "python",
   "nbconvert_exporter": "python",
   "pygments_lexer": "ipython3",
   "version": "3.7.6"
  },
  "orig_nbformat": 4
 },
 "nbformat": 4,
 "nbformat_minor": 2
}
