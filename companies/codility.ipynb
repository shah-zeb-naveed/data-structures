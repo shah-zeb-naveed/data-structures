{
 "cells": [
  {
   "cell_type": "code",
   "execution_count": null,
   "metadata": {},
   "outputs": [],
   "source": [
    "# you can write to stdout for debugging purposes, e.g.\n",
    "# print(\"this is a debug message\")\n",
    "\n",
    "def solution(A):\n",
    "    \n",
    "    hashset = set(A)\n",
    "    for i in range(1, len(A) + 2):\n",
    "        if i not in hashset:\n",
    "            return i\n",
    "\n",
    "    return -1"
   ]
  },
  {
   "cell_type": "code",
   "execution_count": null,
   "metadata": {},
   "outputs": [],
   "source": [
    "# you can write to stdout for debugging purposes, e.g.\n",
    "# print(\"this is a debug message\")\n",
    "\n",
    "def solution(N):\n",
    "    # issues with the function: it initializes with 0 value instead of\n",
    "    # float('inf') or an element in the given input\n",
    "    # and doesn't even consider the possibility that the index might be at the 0th index\n",
    "    return [1] * N"
   ]
  },
  {
   "cell_type": "code",
   "execution_count": null,
   "metadata": {},
   "outputs": [],
   "source": [
    "# you can write to stdout for debugging purposes, e.g.\n",
    "# print(\"this is a debug message\")\n",
    "\n",
    "def solution(A):\n",
    "\n",
    "    # setting defaults\n",
    "    max_size = 1\n",
    "    P = 0\n",
    "    i = 1\n",
    "\n",
    "    # iterate over the array\n",
    "    while i < len(A):\n",
    "        cur_size = 1\n",
    "        P_candidate = i - 1\n",
    "\n",
    "        # iterate over the increasing sequence\n",
    "        while i < len(A) and A[i] > A[i - 1]:\n",
    "            cur_size += 1\n",
    "            i += 1\n",
    "        \n",
    "        # update max_size and P index\n",
    "        if cur_size > max_size:\n",
    "            max_size = cur_size\n",
    "            P = P_candidate\n",
    "\n",
    "        i += 1\n",
    "\n",
    "    return P"
   ]
  },
  {
   "cell_type": "code",
   "execution_count": null,
   "metadata": {},
   "outputs": [],
   "source": [
    "# you can write to stdout for debugging purposes, e.g.\n",
    "# print(\"this is a debug message\")\n",
    "\n",
    "def solution(S):\n",
    "    \n",
    "    # init\n",
    "    i = 0\n",
    "    sizes = []\n",
    "    max_size = float('-inf')\n",
    "\n",
    "    # iterate over input string\n",
    "    while i < len(S):\n",
    "        c = S[i]\n",
    "        size = 0\n",
    "        \n",
    "        # iterate over this block\n",
    "        while i < len(S) and S[i] == c:\n",
    "            i += 1\n",
    "            size += 1\n",
    "\n",
    "        # update max_size\n",
    "        if size > max_size:\n",
    "            max_size = size\n",
    "\n",
    "        # save size\n",
    "        sizes.append(size)\n",
    "\n",
    "    n_additional = 0\n",
    "    \n",
    "    for size in sizes:\n",
    "        n_additional += (max_size - size)\n",
    "\n",
    "    return n_additional\n",
    "    "
   ]
  }
 ],
 "metadata": {
  "interpreter": {
   "hash": "b3ba2566441a7c06988d0923437866b63cedc61552a5af99d1f4fb67d367b25f"
  },
  "kernelspec": {
   "display_name": "Python 3.7.6 ('base')",
   "language": "python",
   "name": "python3"
  },
  "language_info": {
   "name": "python",
   "version": "3.7.6"
  },
  "orig_nbformat": 4
 },
 "nbformat": 4,
 "nbformat_minor": 2
}
