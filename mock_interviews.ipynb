{
 "cells": [
  {
   "cell_type": "code",
   "execution_count": 5,
   "metadata": {},
   "outputs": [
    {
     "data": {
      "text/plain": [
       "[3.0, 14.5, 11.0]"
      ]
     },
     "execution_count": 5,
     "metadata": {},
     "output_type": "execute_result"
    }
   ],
   "source": [
    "# https://www.youtube.com/watch?v=2H_2UGsRmLE\n",
    "\n",
    "from collections import deque\n",
    "\n",
    "class Node:\n",
    "    def __init__(self, val):\n",
    "        self.val = val\n",
    "        self.right = self.left = None\n",
    "\n",
    "\n",
    "node = Node(3)\n",
    "node.right = Node(20)\n",
    "node.left = Node(9)\n",
    "node.right.right = Node(7)\n",
    "node.right.left = Node(15)\n",
    "\n",
    "q = deque([node])\n",
    "output = []\n",
    "\n",
    "while q:\n",
    "    summed = 0\n",
    "    count = 0\n",
    "\n",
    "    for i in range(len(q)):\n",
    "        node = q.popleft()\n",
    "        summed += node.val\n",
    "        count += 1\n",
    "\n",
    "        if node.left:\n",
    "            q.append(node.left)\n",
    "\n",
    "        if node.right:\n",
    "            q.append(node.right)\n",
    "\n",
    "        \n",
    "    output.append(summed / count)\n",
    "\n",
    "output"
   ]
  },
  {
   "cell_type": "code",
   "execution_count": 19,
   "metadata": {},
   "outputs": [
    {
     "name": "stdout",
     "output_type": "stream",
     "text": [
      "[0, 0, -1]\n",
      "[-1, -1, -1]\n",
      "[-2, 0, 0]\n",
      "-------------\n",
      "[0, 0, -1]\n",
      "[-1, -1, -1]\n",
      "[-2, 1, 2]\n"
     ]
    }
   ],
   "source": [
    "# 3D Matrix\n",
    "# unfilled = 0\n",
    "# walls = -1\n",
    "# gates = -2\n",
    "# fill entire\n",
    "# originally 0 indicate closest distance to a gate\n",
    "# can't pass through walls \n",
    "\n",
    "mat = [ [0 , 0, -1],\n",
    "        [-1 , -1, -1],\n",
    "        [-2, 0, 0]]\n",
    "\n",
    "for row in mat:\n",
    "    print(row)\n",
    "\n",
    "ROWS, COLS = len(mat), len(mat[0])\n",
    "\n",
    "def get_distance(r, c):\n",
    "    q = deque()\n",
    "    q.append((r, c, 0))\n",
    "    visited = set()\n",
    "    visited.add((r, c))\n",
    "\n",
    "    while q:\n",
    "        r, c, dist = q.popleft()\n",
    "\n",
    "        # don't mess up with the gates. walls never make it till here.\n",
    "        if mat[r][c] >= 0:\n",
    "            if mat[r][c] == 0:\n",
    "                mat[r][c] = dist\n",
    "            else:\n",
    "                mat[r][c] = dist if dist < mat[r][c] else mat[r][c]\n",
    "\n",
    "        for a, b in [(0, 1), (1, 0), (0, -1), (-1, 0)]:\n",
    "            n_r, n_c = r + a, c + b\n",
    "            if 0 <= n_r < ROWS and 0 <= n_c < COLS:\n",
    "                if (n_r, n_c) not in visited and (mat[n_r][n_c] != -1):\n",
    "                    visited.add((n_r, n_c))\n",
    "                    q.append((n_r, n_c, dist + 1))\n",
    "\n",
    "for r in range(ROWS):\n",
    "    for c in range(COLS):\n",
    "        if mat[r][c] == -2:\n",
    "            get_distance(r, c)\n",
    "\n",
    "print('-------------')\n",
    "for row in mat:\n",
    "    print(row)\n",
    "\n",
    "\n",
    "# same question but optimized: we were clearly doing duplicated work above, traversing over the cells that were already visited.\n",
    "# the idea is to queue up first levels from all the gates and then just forget about what the root was. if the cell is still 0,\n",
    "# it means it's the shortest. if a 0 is now a positive integer, this implies that it has already been visited by a gate that's\n",
    "# closer to this one so just continue to the next loop. "
   ]
  },
  {
   "cell_type": "code",
   "execution_count": null,
   "metadata": {},
   "outputs": [],
   "source": []
  }
 ],
 "metadata": {
  "interpreter": {
   "hash": "b3ba2566441a7c06988d0923437866b63cedc61552a5af99d1f4fb67d367b25f"
  },
  "kernelspec": {
   "display_name": "Python 3.7.6 ('base')",
   "language": "python",
   "name": "python3"
  },
  "language_info": {
   "codemirror_mode": {
    "name": "ipython",
    "version": 3
   },
   "file_extension": ".py",
   "mimetype": "text/x-python",
   "name": "python",
   "nbconvert_exporter": "python",
   "pygments_lexer": "ipython3",
   "version": "3.7.6"
  },
  "orig_nbformat": 4
 },
 "nbformat": 4,
 "nbformat_minor": 2
}
