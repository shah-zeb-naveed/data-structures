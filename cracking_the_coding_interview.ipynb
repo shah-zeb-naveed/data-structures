{
 "cells": [
  {
   "cell_type": "code",
   "execution_count": 20,
   "metadata": {},
   "outputs": [
    {
     "name": "stdout",
     "output_type": "stream",
     "text": [
      "a\n",
      "0\n",
      "\n",
      "\n"
     ]
    }
   ],
   "source": [
    "# Optimize & Solve Technique # 2: DIY (Do It Yourself)\n",
    "# Example: Given a smaller string s and a bigger string b, design an algorithm to find all permutations\n",
    "# of the shorter string within the longer one. Print the location of each permutation.\n",
    "\n",
    "def check_permutations(b, s):\n",
    "\n",
    "    # s log s\n",
    "    sorted(s)\n",
    "\n",
    "    # worse case: b\n",
    "    for i in range(len(b) - len(s) + 1): \n",
    "        candidate = s[i:i+len(s)]\n",
    "\n",
    "        # s log s\n",
    "        sorted(candidate)\n",
    "        print(candidate)\n",
    "\n",
    "        # s\n",
    "        if s == candidate:\n",
    "            print(i)\n",
    "\n",
    "\n",
    "b = 'asd'\n",
    "s = 'a'\n",
    "check_permutations(b, s)"
   ]
  },
  {
   "cell_type": "code",
   "execution_count": 31,
   "metadata": {},
   "outputs": [
    {
     "data": {
      "text/plain": [
       "True"
      ]
     },
     "execution_count": 31,
     "metadata": {},
     "output_type": "execute_result"
    }
   ],
   "source": [
    "# Optimize & Solve Technique # 3: Simplify and Generalize\n",
    "\n",
    "def note_possible(mag, note):\n",
    "\n",
    "    # O(mag) + O(note)\n",
    "    mag = mag.split(' ')\n",
    "    note = note.split(' ')\n",
    "\n",
    "    freq = {}\n",
    "\n",
    "    # O(mag) + O(note)\n",
    "    for w in mag:\n",
    "        freq[w] = 1 + freq.get(w, 0)\n",
    "\n",
    "    for w in note:\n",
    "        \n",
    "        freq[w] -= 1\n",
    "        if freq[w] < 0:\n",
    "            return False\n",
    "    \n",
    "    return True\n",
    "\n",
    "mag = 'a quick quick fox brown fox'\n",
    "note = 'a fox fox'\n",
    "note_possible(mag, note)"
   ]
  },
  {
   "cell_type": "code",
   "execution_count": 1,
   "metadata": {},
   "outputs": [
    {
     "data": {
      "text/plain": [
       "24"
      ]
     },
     "execution_count": 1,
     "metadata": {},
     "output_type": "execute_result"
    }
   ],
   "source": [
    "# Optimize & Solve Technique # 4: Base Case and Build\n",
    "\n",
    "# Example: Design an algorithm to print all permutations of a string. For simplicity, assume all char­acters are unique.\n",
    "\n",
    "# better implementation in common.ipynb\n",
    "def get_permutation(s):\n",
    "\n",
    "    # if len(s) == 1:\n",
    "    #     print(s)\n",
    "    #     return s\n",
    "    \n",
    "    if len(s) == 2:\n",
    "        # O(s)\n",
    "        perms = [s, s[::-1]]\n",
    "        return perms\n",
    "    \n",
    "    perms = get_permutation(s[:-1])\n",
    "\n",
    "    # number of new perms added in this step = \n",
    "    # number of old perms * number \n",
    "    add_perms = []\n",
    "    for perm in perms:\n",
    "        for i in range(len(perm) + 1):\n",
    "            add_perms.append(perm[:i] + s[-1] + perm[i:])\n",
    "    \n",
    "    return add_perms\n",
    "\n",
    "# n! permutations\n",
    "s = 'abcd'\n",
    "len(get_permutation(s))"
   ]
  },
  {
   "cell_type": "code",
   "execution_count": null,
   "metadata": {},
   "outputs": [],
   "source": []
  }
 ],
 "metadata": {
  "interpreter": {
   "hash": "b3ba2566441a7c06988d0923437866b63cedc61552a5af99d1f4fb67d367b25f"
  },
  "kernelspec": {
   "display_name": "Python 3.7.6 ('base')",
   "language": "python",
   "name": "python3"
  },
  "language_info": {
   "codemirror_mode": {
    "name": "ipython",
    "version": 3
   },
   "file_extension": ".py",
   "mimetype": "text/x-python",
   "name": "python",
   "nbconvert_exporter": "python",
   "pygments_lexer": "ipython3",
   "version": "3.7.6"
  },
  "orig_nbformat": 4
 },
 "nbformat": 4,
 "nbformat_minor": 2
}
