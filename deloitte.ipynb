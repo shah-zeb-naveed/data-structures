{
 "cells": [
  {
   "cell_type": "code",
   "execution_count": null,
   "metadata": {},
   "outputs": [],
   "source": [
    "import sys\n",
    "# import numpy as np\n",
    "# import pandas as pd\n",
    "# from sklearn import ...\n",
    "\n",
    "# numerical to roman\n",
    "\n",
    "mapper = {\n",
    "    1 : 'I',\n",
    "    4 : 'IV',\n",
    "    5 : 'V',\n",
    "    9 : 'IV',\n",
    "    10 : 'X',\n",
    "    40 : 'XL',\n",
    "    50 : 'L',\n",
    "    90 : 'XC',\n",
    "    100 : 'C',\n",
    "    400 : 'CD',\n",
    "    500 : 'D',\n",
    "    900 : 'CM',\n",
    "    1000 : 'M'\n",
    "}\n",
    "\n",
    "for line in sys.stdin:\n",
    "    num = int(line)\n",
    "    \n",
    "    # sorting not required in python 3.0 as dictionaries will maintain order\n",
    "    ordered_keys = sorted(list(mapper.keys()))\n",
    "    \n",
    "    roman = []\n",
    "    \n",
    "    for key in reversed(ordered_keys):\n",
    "        if num // key == 0:\n",
    "            continue\n",
    "        \n",
    "        this = num // key\n",
    "        num %= key\n",
    "        roman.append(this * mapper[key])\n",
    "    \n",
    "    roman = ''.join(roman)\n",
    "    print(roman)\n",
    "    \n"
   ]
  }
 ],
 "metadata": {
  "interpreter": {
   "hash": "b3ba2566441a7c06988d0923437866b63cedc61552a5af99d1f4fb67d367b25f"
  },
  "kernelspec": {
   "display_name": "Python 3.7.6 ('base')",
   "language": "python",
   "name": "python3"
  },
  "language_info": {
   "name": "python",
   "version": "3.7.6"
  },
  "orig_nbformat": 4
 },
 "nbformat": 4,
 "nbformat_minor": 2
}
