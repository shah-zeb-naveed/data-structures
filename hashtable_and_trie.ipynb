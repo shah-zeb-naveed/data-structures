{
 "cells": [
  {
   "cell_type": "code",
   "execution_count": 1,
   "metadata": {},
   "outputs": [
    {
     "name": "stdout",
     "output_type": "stream",
     "text": [
      "0 --> Allahabad --> Mumbai --> Mathura \n",
      "1 --> Punjab --> Noida \n",
      "2 \n",
      "3 \n",
      "4 --> Delhi \n"
     ]
    }
   ],
   "source": [
    "# Hashing\n",
    "\n",
    "hash_size = 5\n",
    "HashTable = [[] for _ in range(hash_size)]\n",
    "\n",
    "def display_hash(hashTable):\n",
    "    for i in range(len(hashTable)):\n",
    "        print(i, end = \" \")\n",
    "          \n",
    "        for j in hashTable[i]:\n",
    "            print(\"-->\", end = \" \")\n",
    "            print(j, end = \" \")\n",
    "              \n",
    "        print()\n",
    "\n",
    "def hashing_basic(key, hash_size):\n",
    "    return key % hash_size\n",
    "\n",
    "def insert(hashtable, key, value):\n",
    "    hash_key = hashing_basic(key, hash_size)\n",
    "    HashTable[hash_key].append(value)\n",
    "\n",
    "insert(HashTable, 10, 'Allahabad')\n",
    "insert(HashTable, 25, 'Mumbai')\n",
    "insert(HashTable, 20, 'Mathura')\n",
    "insert(HashTable, 9, 'Delhi')\n",
    "insert(HashTable, 21, 'Punjab')\n",
    "insert(HashTable, 21, 'Noida')\n",
    "  \n",
    "display_hash(HashTable)"
   ]
  },
  {
   "cell_type": "code",
   "execution_count": 14,
   "metadata": {},
   "outputs": [
    {
     "name": "stdout",
     "output_type": "stream",
     "text": [
      "{'b': <__main__.Trie object at 0x000001C8AA22E488>}\n"
     ]
    }
   ],
   "source": [
    "# tries ( better implementation)\n",
    "\n",
    "class Trie:\n",
    "\n",
    "    def __init__(self):\n",
    "        self.children = {}\n",
    "        self.isword = False\n",
    "\n",
    "    def add_word(self, word):\n",
    "        node = self\n",
    "\n",
    "        for c in word:\n",
    "            if c not in node.children:\n",
    "                node.children[c] = Trie()\n",
    "\n",
    "            node = node.children[c]\n",
    "\n",
    "        node.isword = True\n",
    "    \n",
    "trie = Trie()\n",
    "trie.add_word('batman')\n",
    "print(trie.children)"
   ]
  },
  {
   "cell_type": "code",
   "execution_count": 2,
   "metadata": {},
   "outputs": [
    {
     "name": "stdout",
     "output_type": "stream",
     "text": [
      "False\n",
      "False\n",
      "True\n",
      "da\n",
      "daa\n"
     ]
    }
   ],
   "source": [
    "# tries\n",
    "\n",
    "class Trie:\n",
    "\n",
    "    def __init__(self):\n",
    "        self.root = {\"*\": \"*\"} # both asterisks don't have a lot of significance\n",
    "\n",
    "    def add_word(self, word):\n",
    "        current_node = self.root\n",
    "\n",
    "        for letter in word:\n",
    "            if letter not in current_node:\n",
    "                # adding a letter is essentially adding a key in parent dict with a val of empty dict\n",
    "                current_node[letter] = {}\n",
    "\n",
    "            current_node = current_node[letter]\n",
    "        current_node['*'] = '*'  # marking end of a word\n",
    "\n",
    "    def does_word_exist(self, word):\n",
    "        curr_node = self.root\n",
    "\n",
    "        for letter in word:\n",
    "            if letter in curr_node:\n",
    "                curr_node = curr_node[letter]\n",
    "            else:\n",
    "                return False\n",
    "\n",
    "        return '*' in curr_node  # if we wanna check for words and not sub-words\n",
    "\n",
    "    def lcf(self):\n",
    "        curr_node = self.root\n",
    "        \n",
    "        # just for root node\n",
    "        keys = [key for key in curr_node.keys() if key != '*']\n",
    "        lcf = []\n",
    "\n",
    "        while len(keys) == 1:\n",
    "            new_key = keys[0]\n",
    "\n",
    "            if new_key == '*':\n",
    "                break\n",
    "\n",
    "            lcf.append(new_key)\n",
    "            curr_node = curr_node[new_key]\n",
    "            keys = list(curr_node.keys()) \n",
    "            \n",
    "        return ''.join(lcf)\n",
    "            \n",
    "            \n",
    "    def lcf_with_query(self, q):\n",
    "        curr_node = self.root\n",
    "        \n",
    "        # just for root node\n",
    "        keys = [key for key in curr_node.keys() if key != '*']\n",
    "        lcf = []\n",
    "\n",
    "        for letter in q:\n",
    "            new_key = keys[0]\n",
    "\n",
    "            if new_key == '*' or letter != new_key:\n",
    "                break\n",
    "\n",
    "            lcf.append(new_key)\n",
    "            curr_node = curr_node[new_key]\n",
    "            keys = list(curr_node.keys())\n",
    "\n",
    "            if len(keys) > 1:\n",
    "                break\n",
    "            \n",
    "        return ''.join(lcf)\n",
    "\n",
    "trie = Trie()\n",
    "trie.add_word('daaogsdue')\n",
    "trie.add_word('daaogs32f')\n",
    "\n",
    "trie.add_word('daalaog')\n",
    "trie.add_word('daalaone')\n",
    "\n",
    "print(trie.does_word_exist('del'))\n",
    "print(trie.does_word_exist('delta'))\n",
    "print(trie.does_word_exist('daalaone'))\n",
    "\n",
    "# find the longest common prefix of trie words and the query\n",
    "query = 'daogsdf123u'\n",
    "print(trie.lcf_with_query(query))\n",
    "print(trie.lcf())\n"
   ]
  }
 ],
 "metadata": {
  "interpreter": {
   "hash": "b3ba2566441a7c06988d0923437866b63cedc61552a5af99d1f4fb67d367b25f"
  },
  "kernelspec": {
   "display_name": "Python 3.7.6 ('base')",
   "language": "python",
   "name": "python3"
  },
  "language_info": {
   "codemirror_mode": {
    "name": "ipython",
    "version": 3
   },
   "file_extension": ".py",
   "mimetype": "text/x-python",
   "name": "python",
   "nbconvert_exporter": "python",
   "pygments_lexer": "ipython3",
   "version": "3.7.6"
  },
  "orig_nbformat": 4
 },
 "nbformat": 4,
 "nbformat_minor": 2
}
