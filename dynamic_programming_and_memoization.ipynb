{
 "cells": [
  {
   "cell_type": "code",
   "execution_count": 26,
   "metadata": {},
   "outputs": [
    {
     "name": "stdout",
     "output_type": "stream",
     "text": [
      "[-1, -1, -1, -1, -1, -1, -1, -1, -1, -1, -1]\n",
      "55\n",
      "[0, 1, 1, 2, 3, 5, 8, 13, 21, 34, 55]\n"
     ]
    }
   ],
   "source": [
    "# dynamic programming and memoization\n",
    "# fibonacci example\n",
    "\n",
    "def fibo(n):\n",
    "    if n <= 1:\n",
    "        memo[n] = n\n",
    "        return n\n",
    "\n",
    "    if memo[n] == -1:\n",
    "        memo[n] = fibo(n - 1) + fibo(n - 2)\n",
    "\n",
    "    return memo[n]\n",
    "\n",
    "# caching\n",
    "memo = [-1]\n",
    "n = 10\n",
    "\n",
    "# extend array as required\n",
    "if n >= len(memo):\n",
    "    diff = n - len(memo) + 1\n",
    "    while diff:\n",
    "        diff -= 1\n",
    "        memo.append(-1)\n",
    "\n",
    "print(memo)\n",
    "print(fibo(n))\n",
    "print(memo)"
   ]
  }
 ],
 "metadata": {
  "interpreter": {
   "hash": "b3ba2566441a7c06988d0923437866b63cedc61552a5af99d1f4fb67d367b25f"
  },
  "kernelspec": {
   "display_name": "Python 3.7.6 ('base')",
   "language": "python",
   "name": "python3"
  },
  "language_info": {
   "codemirror_mode": {
    "name": "ipython",
    "version": 3
   },
   "file_extension": ".py",
   "mimetype": "text/x-python",
   "name": "python",
   "nbconvert_exporter": "python",
   "pygments_lexer": "ipython3",
   "version": "3.7.6"
  },
  "orig_nbformat": 4
 },
 "nbformat": 4,
 "nbformat_minor": 2
}
