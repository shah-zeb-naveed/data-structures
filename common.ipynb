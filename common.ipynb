{
 "cells": [
  {
   "cell_type": "code",
   "execution_count": null,
   "metadata": {},
   "outputs": [],
   "source": [
    "# get combinations\n",
    "from itertools import combinations\n",
    "test_str = 'asdas'\n",
    "[x for x in combinations(test_str, 2)]"
   ]
  },
  {
   "cell_type": "code",
   "execution_count": 3,
   "metadata": {},
   "outputs": [
    {
     "data": {
      "text/plain": [
       "[[3], [3, 2], [3, 2, 4], [2], [2, 4], [4]]"
      ]
     },
     "execution_count": 3,
     "metadata": {},
     "output_type": "execute_result"
    }
   ],
   "source": [
    "# get contiguous substrings\n",
    "test_str = [3, 2, 4]\n",
    "\n",
    "# brute force\n",
    "res = []\n",
    "for i in range(len(test_str)):\n",
    "       for j in range(i + 1, len(test_str) + 1):\n",
    "              res.append(test_str[i: j])\n",
    "\n",
    "res"
   ]
  },
  {
   "cell_type": "code",
   "execution_count": 9,
   "metadata": {},
   "outputs": [
    {
     "name": "stdout",
     "output_type": "stream",
     "text": [
      "['1', '2', '3']\n",
      "['1', '3', '2']\n",
      "['2', '1', '3']\n",
      "['2', '3', '1']\n",
      "['3', '2', '1']\n",
      "['3', '1', '2']\n"
     ]
    }
   ],
   "source": [
    "# def permutation(nums):\n",
    "#     if len(nums) == 0:\n",
    "#         return []\n",
    "\n",
    "#     if len(nums) == 1:\n",
    "#         return [nums]\n",
    "\n",
    "#     perms = []\n",
    "\n",
    "#     for i in range(len(nums)):\n",
    "        \n",
    "#         start = nums[i]\n",
    "\n",
    "#         remaining = nums[:i] + nums[i + 1: ]\n",
    "\n",
    "#         for perm in permutation(remaining):\n",
    "#             perms.append([start] + perm)\n",
    "\n",
    "#     return perms\n",
    "\n",
    "def permutation_dfs_backtrack(nums, low, high):\n",
    "    # fix the low\n",
    "    # ^ not sure what this comment was\n",
    "    if low == high:\n",
    "        print(nums)\n",
    "        return\n",
    "\n",
    "    for i in range(low, high + 1):\n",
    "        nums[low], nums[i] = nums[i], nums[low]\n",
    "        permutation_dfs_backtrack(nums, low + 1, high)\n",
    "\n",
    "        # backtrack - undo changes\n",
    "        nums[low], nums[i] = nums[i], nums[low]\n",
    "\n",
    "# def permutation_print_only(nums, answer=''):\n",
    "#     if len(nums) == 0:\n",
    "#         print(answer)\n",
    "#         return\n",
    "\n",
    "#     for i in range(len(nums)):\n",
    "#         start = nums[i]\n",
    "#         remaining = nums[:i] + nums[i + 1: ] # create a copy    \n",
    "#         permutation_print_only(remaining, answer + start)\n",
    "\n",
    "nums = ['1', '2', '3']\n",
    "permutation_dfs_backtrack(nums, low=0, high=len(nums) - 1)"
   ]
  },
  {
   "cell_type": "code",
   "execution_count": 2,
   "metadata": {},
   "outputs": [
    {
     "name": "stdout",
     "output_type": "stream",
     "text": [
      "0\n",
      "1\n",
      "1 2 3 5 8 "
     ]
    }
   ],
   "source": [
    "# recursion\n",
    "\n",
    "# fibonacci sequence: 0, 1, 1, 2, 3, 5\n",
    "\n",
    "n = 5\n",
    "\n",
    "def print_fibonacci(n):\n",
    "\n",
    "    first = 0\n",
    "    second = 1\n",
    "    print(first)\n",
    "    print(second)\n",
    "\n",
    "    for i in range(n):\n",
    "\n",
    "        next = first + second\n",
    "        print(next, end=' ')\n",
    "\n",
    "        first = second\n",
    "        second = next\n",
    "\n",
    "print_fibonacci(n)\n",
    "# recursive in dynamic_programming_*.ipynb"
   ]
  }
 ],
 "metadata": {
  "interpreter": {
   "hash": "b3ba2566441a7c06988d0923437866b63cedc61552a5af99d1f4fb67d367b25f"
  },
  "kernelspec": {
   "display_name": "Python 3.7.6 ('base')",
   "language": "python",
   "name": "python3"
  },
  "language_info": {
   "codemirror_mode": {
    "name": "ipython",
    "version": 3
   },
   "file_extension": ".py",
   "mimetype": "text/x-python",
   "name": "python",
   "nbconvert_exporter": "python",
   "pygments_lexer": "ipython3",
   "version": "3.7.6"
  },
  "orig_nbformat": 4
 },
 "nbformat": 4,
 "nbformat_minor": 2
}
