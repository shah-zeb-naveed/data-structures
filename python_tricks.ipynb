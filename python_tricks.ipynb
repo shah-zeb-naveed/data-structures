{
 "cells": [
  {
   "cell_type": "code",
   "execution_count": 1,
   "metadata": {},
   "outputs": [
    {
     "name": "stdout",
     "output_type": "stream",
     "text": [
      "('a', 'b')\n",
      "('l', 'e')\n",
      "('p', 't')\n",
      "('h', 'a')\n"
     ]
    }
   ],
   "source": [
    "# zipping a pointer to list of strings will zip letter by letter \n",
    "a = ['alpha', 'beta']\n",
    "\n",
    "for x in zip(*a):\n",
    "    print(x)"
   ]
  },
  {
   "cell_type": "code",
   "execution_count": null,
   "metadata": {},
   "outputs": [],
   "source": [
    "# mutable objects like lists and dicts will be modified\n",
    "a = [1, 2, 4, 5]\n",
    "\n",
    "def tmp(a):\n",
    "    a.pop()\n",
    "\n",
    "tmp(a)\n",
    "a"
   ]
  },
  {
   "cell_type": "code",
   "execution_count": null,
   "metadata": {},
   "outputs": [],
   "source": [
    "# deleting elements in a list\n",
    "a = [1, 2, 3]\n",
    "del a[-1]\n",
    "a.pop()\n",
    "a"
   ]
  },
  {
   "cell_type": "code",
   "execution_count": 3,
   "metadata": {},
   "outputs": [
    {
     "name": "stdout",
     "output_type": "stream",
     "text": [
      "1 5\n"
     ]
    }
   ],
   "source": [
    "# get q and r in a go\n",
    "q, r = divmod(15, 10)\n",
    "print(q, r)"
   ]
  },
  {
   "cell_type": "code",
   "execution_count": null,
   "metadata": {},
   "outputs": [],
   "source": [
    "# demoing behaviour of global variables\n",
    "\n",
    "a = {}\n",
    "b = 0\n",
    "d = 1\n",
    "\n",
    "\n",
    "def mod():\n",
    "    # this doesn't throw error. dicts are mutables so can be referenced inside this func.\n",
    "    a['a'] = 'a'\n",
    "    # b = b + 1 # UnboundLocalError: local variable 'b' referenced before assignment -> immutables can't be referenced inside\n",
    "    # integers are immutable. they are essentially completely new objects when new value is assinged.\n",
    "    b = 1\n",
    "\n",
    "    global d\n",
    "    # d is now considered as global and its value can be changed (not sure if they call global integers as mutable or not)\n",
    "    d += 1\n",
    "    return a, b, d\n",
    "\n",
    "\n",
    "print(\"Original:\")\n",
    "print(a, b, d)\n",
    "\n",
    "mod()\n",
    "\n",
    "print(\"After:\")\n",
    "print(a, b, d)\n"
   ]
  }
 ],
 "metadata": {
  "interpreter": {
   "hash": "b3ba2566441a7c06988d0923437866b63cedc61552a5af99d1f4fb67d367b25f"
  },
  "kernelspec": {
   "display_name": "Python 3.7.6 ('base')",
   "language": "python",
   "name": "python3"
  },
  "language_info": {
   "codemirror_mode": {
    "name": "ipython",
    "version": 3
   },
   "file_extension": ".py",
   "mimetype": "text/x-python",
   "name": "python",
   "nbconvert_exporter": "python",
   "pygments_lexer": "ipython3",
   "version": "3.7.6"
  },
  "orig_nbformat": 4
 },
 "nbformat": 4,
 "nbformat_minor": 2
}
